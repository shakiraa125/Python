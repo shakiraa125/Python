{
 "cells": [
  {
   "cell_type": "code",
   "execution_count": 119,
   "id": "e8f53bf3-7ead-4b87-8265-af600bbfa292",
   "metadata": {},
   "outputs": [],
   "source": [
    "from pyspark.sql import SparkSession\n",
    "from pyspark.sql.functions import *\n",
    "from pyspark.sql.types import *\n",
    "\n"
   ]
  },
  {
   "cell_type": "code",
   "execution_count": 120,
   "id": "f90e203e-8630-460f-bde6-ec7e4045d2c9",
   "metadata": {},
   "outputs": [],
   "source": [
    "from pyspark.sql.functions import col, avg, sum, desc, corr, when"
   ]
  },
  {
   "cell_type": "code",
   "execution_count": 121,
   "id": "63471782-1d7c-43f6-bbd4-9008b6eb63cb",
   "metadata": {},
   "outputs": [],
   "source": [
    "#Initialize Spark Session\n",
    "spark = SparkSession.builder \\\n",
    "    .appName(\"Retail Sales Analysis\") \\\n",
    "    .getOrCreate()"
   ]
  },
  {
   "cell_type": "code",
   "execution_count": 122,
   "id": "d5ba339e-1d0b-4e65-9b38-c4421d048859",
   "metadata": {},
   "outputs": [
    {
     "name": "stderr",
     "output_type": "stream",
     "text": [
      "<>:2: SyntaxWarning: invalid escape sequence '\\B'\n",
      "<>:2: SyntaxWarning: invalid escape sequence '\\B'\n",
      "C:\\Users\\hp\\AppData\\Local\\Temp\\ipykernel_3400\\3887444253.py:2: SyntaxWarning: invalid escape sequence '\\B'\n",
      "  file_path = \"C:\\BlinkIT Grocery Data.csv\"\n"
     ]
    }
   ],
   "source": [
    "#Load the Dataset\n",
    "file_path = \"C:\\BlinkIT Grocery Data.csv\"\n",
    "df = spark.read.csv(file_path, header=True, inferSchema=True)\n"
   ]
  },
  {
   "cell_type": "code",
   "execution_count": 123,
   "id": "b9012c4d-b653-4a5d-a569-d3c819645efa",
   "metadata": {},
   "outputs": [
    {
     "name": "stdout",
     "output_type": "stream",
     "text": [
      "Dataset Schema:\n",
      "root\n",
      " |-- Item Fat Content: string (nullable = true)\n",
      " |-- Item Identifier: string (nullable = true)\n",
      " |-- Item Type: string (nullable = true)\n",
      " |-- Outlet Establishment Year: integer (nullable = true)\n",
      " |-- Outlet Identifier: string (nullable = true)\n",
      " |-- Outlet Location Type: string (nullable = true)\n",
      " |-- Outlet Size: string (nullable = true)\n",
      " |-- Outlet Type: string (nullable = true)\n",
      " |-- Item Visibility: double (nullable = true)\n",
      " |-- Item Weight: double (nullable = true)\n",
      " |-- Sales: double (nullable = true)\n",
      " |-- Rating: double (nullable = true)\n",
      "\n"
     ]
    }
   ],
   "source": [
    "#Data Preview\n",
    "print(\"Dataset Schema:\")\n",
    "df.printSchema()"
   ]
  },
  {
   "cell_type": "code",
   "execution_count": 124,
   "id": "769c09da-0bfb-48e5-b0b0-9c72be113483",
   "metadata": {},
   "outputs": [
    {
     "name": "stdout",
     "output_type": "stream",
     "text": [
      "Dataset Preview:\n",
      "+----------------+---------------+--------------------+-------------------------+-----------------+--------------------+-----------+-----------------+---------------+-----------+--------+------+\n",
      "|Item Fat Content|Item Identifier|           Item Type|Outlet Establishment Year|Outlet Identifier|Outlet Location Type|Outlet Size|      Outlet Type|Item Visibility|Item Weight|   Sales|Rating|\n",
      "+----------------+---------------+--------------------+-------------------------+-----------------+--------------------+-----------+-----------------+---------------+-----------+--------+------+\n",
      "|         Regular|          FDX32|Fruits and Vegeta...|                     2012|           OUT049|              Tier 1|     Medium|Supermarket Type1|      0.1000135|       15.1|145.4786|   5.0|\n",
      "|         Low Fat|          NCB42|  Health and Hygiene|                     2022|           OUT018|              Tier 3|     Medium|Supermarket Type2|    0.008596051|       11.8|115.3492|   5.0|\n",
      "|         Regular|          FDR28|        Frozen Foods|                     2016|           OUT046|              Tier 1|      Small|Supermarket Type1|    0.025896485|      13.85| 165.021|   5.0|\n",
      "|         Regular|          FDL50|              Canned|                     2014|           OUT013|              Tier 3|       High|Supermarket Type1|    0.042277867|      12.15|126.5046|   5.0|\n",
      "|         Low Fat|          DRI25|         Soft Drinks|                     2015|           OUT045|              Tier 2|      Small|Supermarket Type1|    0.033970195|       19.6| 55.1614|   5.0|\n",
      "|         low fat|          FDS52|        Frozen Foods|                     2020|           OUT017|              Tier 2|      Small|Supermarket Type1|    0.005505481|       8.89|102.4016|   5.0|\n",
      "|         Low Fat|          NCU05|  Health and Hygiene|                     2011|           OUT010|              Tier 3|      Small|    Grocery Store|    0.098312421|       11.8| 81.4618|   5.0|\n",
      "|         Low Fat|          NCD30|           Household|                     2015|           OUT045|              Tier 2|      Small|Supermarket Type1|    0.026903714|       19.7| 96.0726|   5.0|\n",
      "|         Low Fat|          FDW20|Fruits and Vegeta...|                     2014|           OUT013|              Tier 3|       High|Supermarket Type1|    0.024129332|      20.75| 124.173|   5.0|\n",
      "|         Low Fat|          FDX25|              Canned|                     2018|           OUT027|              Tier 3|     Medium|Supermarket Type3|    0.101561568|       NULL|181.9292|   5.0|\n",
      "|              LF|          FDX21|         Snack Foods|                     2018|           OUT027|              Tier 3|     Medium|Supermarket Type3|    0.084554569|       NULL|109.8912|   5.0|\n",
      "|         Low Fat|          NCU41|  Health and Hygiene|                     2017|           OUT035|              Tier 2|      Small|Supermarket Type1|    0.052044976|      18.85|192.1846|   5.0|\n",
      "|         Low Fat|          FDL20|Fruits and Vegeta...|                     2022|           OUT018|              Tier 3|     Medium|Supermarket Type2|    0.128937661|       17.1|112.3886|   5.0|\n",
      "|         Low Fat|          NCR54|           Household|                     2014|           OUT013|              Tier 3|       High|Supermarket Type1|    0.090486828|      16.35| 195.211|   5.0|\n",
      "|         Low Fat|          FDH19|                Meat|                     2018|           OUT027|              Tier 3|     Medium|Supermarket Type3|     0.03292824|       NULL|173.1738|   5.0|\n",
      "|         Regular|          FDB57|Fruits and Vegeta...|                     2017|           OUT035|              Tier 2|      Small|Supermarket Type1|    0.018801549|      20.25|222.1772|   5.0|\n",
      "|         Low Fat|          FDO23|              Breads|                     2022|           OUT018|              Tier 3|     Medium|Supermarket Type2|    0.147023834|      17.85| 93.7436|   5.0|\n",
      "|         Low Fat|          NCB07|           Household|                     2012|           OUT049|              Tier 1|     Medium|Supermarket Type1|    0.077628053|       19.2| 197.611|   5.0|\n",
      "|         Low Fat|          FDJ56|Fruits and Vegeta...|                     2018|           OUT027|              Tier 3|     Medium|Supermarket Type3|    0.182514881|       NULL|   98.77|   5.0|\n",
      "|         Low Fat|          DRN47|         Hard Drinks|                     2022|           OUT018|              Tier 3|     Medium|Supermarket Type2|    0.016895293|       12.1| 178.566|   5.0|\n",
      "+----------------+---------------+--------------------+-------------------------+-----------------+--------------------+-----------+-----------------+---------------+-----------+--------+------+\n",
      "only showing top 20 rows\n",
      "\n"
     ]
    }
   ],
   "source": [
    "print(\"Dataset Preview:\")\n",
    "df.show()"
   ]
  },
  {
   "cell_type": "code",
   "execution_count": 125,
   "id": "f9109dd7-9ff7-4c3c-a09c-cb7380954c8b",
   "metadata": {},
   "outputs": [],
   "source": [
    "\n",
    "# 1. Handle missing values in 'Item Weight'\n",
    "df_cleaned = df.withColumn(\"Item Weight\", when(col(\"Item Weight\").isNull(), df.agg(avg(\"Item Weight\")).first()[0]).otherwise(col(\"Item Weight\")))\n"
   ]
  },
  {
   "cell_type": "code",
   "execution_count": 126,
   "id": "2fd7097b-2b75-44fe-ad84-1734a1d43e20",
   "metadata": {},
   "outputs": [
    {
     "name": "stdout",
     "output_type": "stream",
     "text": [
      "+----------------+---------------+--------------------+-------------------------+-----------------+--------------------+-----------+-----------------+---------------+------------------+--------+------+\n",
      "|Item Fat Content|Item Identifier|           Item Type|Outlet Establishment Year|Outlet Identifier|Outlet Location Type|Outlet Size|      Outlet Type|Item Visibility|       Item Weight|   Sales|Rating|\n",
      "+----------------+---------------+--------------------+-------------------------+-----------------+--------------------+-----------+-----------------+---------------+------------------+--------+------+\n",
      "|         Regular|          FDX32|Fruits and Vegeta...|                     2012|           OUT049|              Tier 1|     Medium|Supermarket Type1|      0.1000135|              15.1|145.4786|   5.0|\n",
      "|         Low Fat|          NCB42|  Health and Hygiene|                     2022|           OUT018|              Tier 3|     Medium|Supermarket Type2|    0.008596051|              11.8|115.3492|   5.0|\n",
      "|         Regular|          FDR28|        Frozen Foods|                     2016|           OUT046|              Tier 1|      Small|Supermarket Type1|    0.025896485|             13.85| 165.021|   5.0|\n",
      "|         Regular|          FDL50|              Canned|                     2014|           OUT013|              Tier 3|       High|Supermarket Type1|    0.042277867|             12.15|126.5046|   5.0|\n",
      "|         Low Fat|          DRI25|         Soft Drinks|                     2015|           OUT045|              Tier 2|      Small|Supermarket Type1|    0.033970195|              19.6| 55.1614|   5.0|\n",
      "|         low fat|          FDS52|        Frozen Foods|                     2020|           OUT017|              Tier 2|      Small|Supermarket Type1|    0.005505481|              8.89|102.4016|   5.0|\n",
      "|         Low Fat|          NCU05|  Health and Hygiene|                     2011|           OUT010|              Tier 3|      Small|    Grocery Store|    0.098312421|              11.8| 81.4618|   5.0|\n",
      "|         Low Fat|          NCD30|           Household|                     2015|           OUT045|              Tier 2|      Small|Supermarket Type1|    0.026903714|              19.7| 96.0726|   5.0|\n",
      "|         Low Fat|          FDW20|Fruits and Vegeta...|                     2014|           OUT013|              Tier 3|       High|Supermarket Type1|    0.024129332|             20.75| 124.173|   5.0|\n",
      "|         Low Fat|          FDX25|              Canned|                     2018|           OUT027|              Tier 3|     Medium|Supermarket Type3|    0.101561568|12.857645184136176|181.9292|   5.0|\n",
      "|              LF|          FDX21|         Snack Foods|                     2018|           OUT027|              Tier 3|     Medium|Supermarket Type3|    0.084554569|12.857645184136176|109.8912|   5.0|\n",
      "|         Low Fat|          NCU41|  Health and Hygiene|                     2017|           OUT035|              Tier 2|      Small|Supermarket Type1|    0.052044976|             18.85|192.1846|   5.0|\n",
      "|         Low Fat|          FDL20|Fruits and Vegeta...|                     2022|           OUT018|              Tier 3|     Medium|Supermarket Type2|    0.128937661|              17.1|112.3886|   5.0|\n",
      "|         Low Fat|          NCR54|           Household|                     2014|           OUT013|              Tier 3|       High|Supermarket Type1|    0.090486828|             16.35| 195.211|   5.0|\n",
      "|         Low Fat|          FDH19|                Meat|                     2018|           OUT027|              Tier 3|     Medium|Supermarket Type3|     0.03292824|12.857645184136176|173.1738|   5.0|\n",
      "|         Regular|          FDB57|Fruits and Vegeta...|                     2017|           OUT035|              Tier 2|      Small|Supermarket Type1|    0.018801549|             20.25|222.1772|   5.0|\n",
      "|         Low Fat|          FDO23|              Breads|                     2022|           OUT018|              Tier 3|     Medium|Supermarket Type2|    0.147023834|             17.85| 93.7436|   5.0|\n",
      "|         Low Fat|          NCB07|           Household|                     2012|           OUT049|              Tier 1|     Medium|Supermarket Type1|    0.077628053|              19.2| 197.611|   5.0|\n",
      "|         Low Fat|          FDJ56|Fruits and Vegeta...|                     2018|           OUT027|              Tier 3|     Medium|Supermarket Type3|    0.182514881|12.857645184136176|   98.77|   5.0|\n",
      "|         Low Fat|          DRN47|         Hard Drinks|                     2022|           OUT018|              Tier 3|     Medium|Supermarket Type2|    0.016895293|              12.1| 178.566|   5.0|\n",
      "+----------------+---------------+--------------------+-------------------------+-----------------+--------------------+-----------+-----------------+---------------+------------------+--------+------+\n",
      "only showing top 20 rows\n",
      "\n"
     ]
    }
   ],
   "source": [
    "\n",
    "\n",
    "df_cleaned.show()"
   ]
  },
  {
   "cell_type": "code",
   "execution_count": 127,
   "id": "14746a43-e37b-4263-8d55-3c1795fa506f",
   "metadata": {},
   "outputs": [
    {
     "data": {
      "text/plain": [
       "DataFrame[Item Fat Content: string, Item Identifier: string, Item Type: string, Outlet Establishment Year: int, Outlet Identifier: string, Outlet Location Type: string, Outlet Size: string, Outlet Type: string, Item Visibility: double, Item Weight: double, Sales: double, Rating: double]"
      ]
     },
     "execution_count": 127,
     "metadata": {},
     "output_type": "execute_result"
    }
   ],
   "source": [
    "df"
   ]
  },
  {
   "cell_type": "code",
   "execution_count": 128,
   "id": "de9546bd-5f5d-4b07-bd4b-886915d79358",
   "metadata": {},
   "outputs": [
    {
     "name": "stdout",
     "output_type": "stream",
     "text": [
      "+----------------+---------------+--------------------+-------------------------+-----------------+--------------------+-----------+-----------------+---------------+-----------+--------+------+\n",
      "|Item Fat Content|Item Identifier|           Item Type|Outlet Establishment Year|Outlet Identifier|Outlet Location Type|Outlet Size|      Outlet Type|Item Visibility|Item Weight|   Sales|Rating|\n",
      "+----------------+---------------+--------------------+-------------------------+-----------------+--------------------+-----------+-----------------+---------------+-----------+--------+------+\n",
      "|         Regular|          FDX32|Fruits and Vegeta...|                     2012|           OUT049|              Tier 1|     Medium|Supermarket Type1|      0.1000135|       15.1|145.4786|   5.0|\n",
      "|         Low Fat|          NCB42|  Health and Hygiene|                     2022|           OUT018|              Tier 3|     Medium|Supermarket Type2|    0.008596051|       11.8|115.3492|   5.0|\n",
      "|         Regular|          FDR28|        Frozen Foods|                     2016|           OUT046|              Tier 1|      Small|Supermarket Type1|    0.025896485|      13.85| 165.021|   5.0|\n",
      "|         Regular|          FDL50|              Canned|                     2014|           OUT013|              Tier 3|       High|Supermarket Type1|    0.042277867|      12.15|126.5046|   5.0|\n",
      "|         Low Fat|          DRI25|         Soft Drinks|                     2015|           OUT045|              Tier 2|      Small|Supermarket Type1|    0.033970195|       19.6| 55.1614|   5.0|\n",
      "|         low fat|          FDS52|        Frozen Foods|                     2020|           OUT017|              Tier 2|      Small|Supermarket Type1|    0.005505481|       8.89|102.4016|   5.0|\n",
      "|         Low Fat|          NCU05|  Health and Hygiene|                     2011|           OUT010|              Tier 3|      Small|    Grocery Store|    0.098312421|       11.8| 81.4618|   5.0|\n",
      "|         Low Fat|          NCD30|           Household|                     2015|           OUT045|              Tier 2|      Small|Supermarket Type1|    0.026903714|       19.7| 96.0726|   5.0|\n",
      "|         Low Fat|          FDW20|Fruits and Vegeta...|                     2014|           OUT013|              Tier 3|       High|Supermarket Type1|    0.024129332|      20.75| 124.173|   5.0|\n",
      "|         Low Fat|          FDX25|              Canned|                     2018|           OUT027|              Tier 3|     Medium|Supermarket Type3|    0.101561568|       NULL|181.9292|   5.0|\n",
      "|              LF|          FDX21|         Snack Foods|                     2018|           OUT027|              Tier 3|     Medium|Supermarket Type3|    0.084554569|       NULL|109.8912|   5.0|\n",
      "|         Low Fat|          NCU41|  Health and Hygiene|                     2017|           OUT035|              Tier 2|      Small|Supermarket Type1|    0.052044976|      18.85|192.1846|   5.0|\n",
      "|         Low Fat|          FDL20|Fruits and Vegeta...|                     2022|           OUT018|              Tier 3|     Medium|Supermarket Type2|    0.128937661|       17.1|112.3886|   5.0|\n",
      "|         Low Fat|          NCR54|           Household|                     2014|           OUT013|              Tier 3|       High|Supermarket Type1|    0.090486828|      16.35| 195.211|   5.0|\n",
      "|         Low Fat|          FDH19|                Meat|                     2018|           OUT027|              Tier 3|     Medium|Supermarket Type3|     0.03292824|       NULL|173.1738|   5.0|\n",
      "|         Regular|          FDB57|Fruits and Vegeta...|                     2017|           OUT035|              Tier 2|      Small|Supermarket Type1|    0.018801549|      20.25|222.1772|   5.0|\n",
      "|         Low Fat|          FDO23|              Breads|                     2022|           OUT018|              Tier 3|     Medium|Supermarket Type2|    0.147023834|      17.85| 93.7436|   5.0|\n",
      "|         Low Fat|          NCB07|           Household|                     2012|           OUT049|              Tier 1|     Medium|Supermarket Type1|    0.077628053|       19.2| 197.611|   5.0|\n",
      "|         Low Fat|          FDJ56|Fruits and Vegeta...|                     2018|           OUT027|              Tier 3|     Medium|Supermarket Type3|    0.182514881|       NULL|   98.77|   5.0|\n",
      "|         Low Fat|          DRN47|         Hard Drinks|                     2022|           OUT018|              Tier 3|     Medium|Supermarket Type2|    0.016895293|       12.1| 178.566|   5.0|\n",
      "+----------------+---------------+--------------------+-------------------------+-----------------+--------------------+-----------+-----------------+---------------+-----------+--------+------+\n",
      "only showing top 20 rows\n",
      "\n"
     ]
    }
   ],
   "source": [
    "df.show()"
   ]
  },
  {
   "cell_type": "code",
   "execution_count": 129,
   "id": "ea65e37c-0b57-4cba-9deb-98eaed6c9d13",
   "metadata": {},
   "outputs": [],
   "source": [
    "# 2. Average sales by Item Type\n",
    "avg_sales_by_item = df_cleaned.groupBy(\"Item Type\") \\\n",
    "    .agg(avg(\"Sales\").alias(\"Average_Sales\")) \\\n",
    "    .orderBy(desc(\"Average_Sales\"))"
   ]
  },
  {
   "cell_type": "code",
   "execution_count": 152,
   "id": "cc2770b4-ed63-46cd-bec5-8c2b48c2fa29",
   "metadata": {},
   "outputs": [
    {
     "name": "stdout",
     "output_type": "stream",
     "text": [
      "Average Sales by Item Type:\n",
      "+--------------------+------------------+\n",
      "|           Item Type|     Average_Sales|\n",
      "+--------------------+------------------+\n",
      "|           Household|149.42475318681318|\n",
      "|               Dairy|148.49921055718468|\n",
      "|       Starchy Foods| 147.8380229729729|\n",
      "|         Snack Foods|146.19493533333352|\n",
      "|Fruits and Vegeta...|144.58123457792203|\n",
      "|             Seafood|141.84171874999998|\n",
      "|           Breakfast|141.78815090909092|\n",
      "|              Breads|140.95266852589648|\n",
      "|                Meat|139.88203247058823|\n",
      "|              Canned| 139.7638351309707|\n",
      "|        Frozen Foods|138.50336612149542|\n",
      "|         Hard Drinks|137.07794672897194|\n",
      "|              Others| 132.8514295857988|\n",
      "|         Soft Drinks|131.49251011235953|\n",
      "|  Health and Hygiene| 130.8189207692308|\n",
      "|        Baking Goods|126.38076604938273|\n",
      "+--------------------+------------------+\n",
      "\n"
     ]
    }
   ],
   "source": [
    "print(\"Average Sales by Item Type:\")\n",
    "avg_sales_by_item.show()"
   ]
  },
  {
   "cell_type": "code",
   "execution_count": 147,
   "id": "c3f09971-0fec-4611-b6fd-4ce4bae09f54",
   "metadata": {},
   "outputs": [],
   "source": [
    "# 3. Total sales by Item Type\n",
    "total_sales_by_item = df_cleaned.groupBy(\"Item Type\") \\\n",
    "    .agg(sum(\"Sales\").alias(\"Total_Sales\")) \\\n",
    "    .orderBy(desc(\"Total_Sales\"))"
   ]
  },
  {
   "cell_type": "code",
   "execution_count": 148,
   "id": "0022eebf-ccb3-47de-acef-8425f6182e7b",
   "metadata": {},
   "outputs": [
    {
     "name": "stdout",
     "output_type": "stream",
     "text": [
      "Total Sales by Item Type\n",
      "+--------------------+------------------+\n",
      "|           Item Type|       Total_Sales|\n",
      "+--------------------+------------------+\n",
      "|Fruits and Vegeta...|178124.08099999995|\n",
      "|         Snack Foods| 175433.9224000002|\n",
      "|           Household|135976.52539999998|\n",
      "|        Frozen Foods|118558.88140000009|\n",
      "|               Dairy|101276.46159999995|\n",
      "|              Canned| 90706.72899999999|\n",
      "|        Baking Goods| 81894.73640000001|\n",
      "|  Health and Hygiene| 68025.83880000001|\n",
      "|                Meat| 59449.86379999999|\n",
      "|         Soft Drinks| 58514.16699999999|\n",
      "|              Breads|35379.119800000015|\n",
      "|         Hard Drinks|29334.680599999996|\n",
      "|              Others|        22451.8916|\n",
      "|       Starchy Foods| 21880.02739999999|\n",
      "|           Breakfast|15596.696600000001|\n",
      "|             Seafood| 9077.869999999999|\n",
      "+--------------------+------------------+\n",
      "\n"
     ]
    }
   ],
   "source": [
    "print(\"Total Sales by Item Type\")\n",
    "total_sales_by_item.show()"
   ]
  },
  {
   "cell_type": "code",
   "execution_count": 131,
   "id": "e09a50d4-d625-4277-8c0c-ab55f2ca2f23",
   "metadata": {},
   "outputs": [],
   "source": [
    "# 4. Total sales by Outlet Type\n",
    "total_sales_by_outlet = df_cleaned.groupBy(\"Outlet Type\") \\\n",
    "    .agg(sum(\"Sales\").alias(\"Total_Sales\")) \\\n",
    "    .orderBy(desc(\"Total_Sales\"))"
   ]
  },
  {
   "cell_type": "code",
   "execution_count": 132,
   "id": "8d6ccf0a-b935-4b35-97f8-2b454631778a",
   "metadata": {},
   "outputs": [
    {
     "name": "stdout",
     "output_type": "stream",
     "text": [
      "Total Sales by Outlet Type:\n",
      "+-----------------+------------------+\n",
      "|      Outlet Type|       Total_Sales|\n",
      "+-----------------+------------------+\n",
      "|Supermarket Type1| 787549.8928000013|\n",
      "|    Grocery Store|        151939.149|\n",
      "|Supermarket Type2|131477.77639999994|\n",
      "|Supermarket Type3|130714.67460000006|\n",
      "+-----------------+------------------+\n",
      "\n"
     ]
    }
   ],
   "source": [
    "print(\"Total Sales by Outlet Type:\")\n",
    "total_sales_by_outlet.show()"
   ]
  },
  {
   "cell_type": "code",
   "execution_count": 133,
   "id": "b5a8f683-cf2a-41d3-b2e5-7d8e7a244d5e",
   "metadata": {},
   "outputs": [
    {
     "name": "stdout",
     "output_type": "stream",
     "text": [
      "Correlation between Item Visibility and Sales: -0.001314959837573848\n"
     ]
    }
   ],
   "source": [
    "# 5. Correlation between Item Visibility and Sales\n",
    "correlation = df_cleaned.stat.corr(\"Item Visibility\", \"Sales\")\n",
    "print(f\"Correlation between Item Visibility and Sales: {correlation}\")\n"
   ]
  },
  {
   "cell_type": "code",
   "execution_count": 138,
   "id": "de756625-78a0-4038-abbe-b9a2788b9860",
   "metadata": {},
   "outputs": [],
   "source": [
    "# 6. Outlets with the highest average ratings\n",
    "avg_ratings_by_outlet = df_cleaned.groupBy(\"Outlet Identifier\") \\\n",
    "    .agg(avg(\"Rating\").alias(\"Average_Rating\")) \\\n",
    "    .orderBy(desc(\"Average_Rating\"))"
   ]
  },
  {
   "cell_type": "code",
   "execution_count": 135,
   "id": "a720a4ac-48b3-4a94-b247-da638b5fb212",
   "metadata": {},
   "outputs": [
    {
     "name": "stdout",
     "output_type": "stream",
     "text": [
      "Top 5 Outlets with Highest Average Ratings:\n",
      "+-----------------+------------------+\n",
      "|Outlet Identifier|    Average_Rating|\n",
      "+-----------------+------------------+\n",
      "|           OUT019| 3.995075757575764|\n",
      "|           OUT049|3.9854838709677347|\n",
      "|           OUT017|3.9816414686825015|\n",
      "|           OUT010|3.9771171171171207|\n",
      "|           OUT018|3.9712284482758555|\n",
      "+-----------------+------------------+\n",
      "only showing top 5 rows\n",
      "\n"
     ]
    }
   ],
   "source": [
    "print(\"Top 5 Outlets with Highest Average Ratings:\")\n",
    "avg_ratings_by_outlet.show(5)"
   ]
  },
  {
   "cell_type": "code",
   "execution_count": null,
   "id": "bc9c01b4-2ef1-40e6-a1ac-f8a0aae2a2d9",
   "metadata": {},
   "outputs": [],
   "source": []
  },
  {
   "cell_type": "code",
   "execution_count": null,
   "id": "18516e80-ddfb-4c13-8a8f-cd7d8e627d7b",
   "metadata": {},
   "outputs": [],
   "source": []
  }
 ],
 "metadata": {
  "kernelspec": {
   "display_name": "Python 3 (ipykernel)",
   "language": "python",
   "name": "python3"
  },
  "language_info": {
   "codemirror_mode": {
    "name": "ipython",
    "version": 3
   },
   "file_extension": ".py",
   "mimetype": "text/x-python",
   "name": "python",
   "nbconvert_exporter": "python",
   "pygments_lexer": "ipython3",
   "version": "3.13.1"
  }
 },
 "nbformat": 4,
 "nbformat_minor": 5
}
